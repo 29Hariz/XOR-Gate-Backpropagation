{
 "cells": [
  {
   "cell_type": "code",
   "execution_count": 1,
   "id": "b905bf93",
   "metadata": {},
   "outputs": [
    {
     "name": "stdout",
     "output_type": "stream",
     "text": [
      "Output setelah pelatihan:\n",
      "[[0.04344263]\n",
      " [0.85988844]\n",
      " [0.85988671]\n",
      " [0.55144818]]\n"
     ]
    },
    {
     "data": {
      "image/png": "[encoded data removed]",
      "text/plain": [
       "<Figure size 432x288 with 1 Axes>"
      ]
     },
     "metadata": {
      "needs_background": "light"
     },
     "output_type": "display_data"
    },
    {
     "name": "stdout",
     "output_type": "stream",
     "text": [
      "Output prediksi:\n",
      "[[0.]\n",
      " [1.]\n",
      " [1.]\n",
      " [1.]]\n"
     ]
    }
   ],
   "source": [
    "#Aldyn Aditya Majid Arrasyid\n",
    "#21060120110045\n",
    "\n",
    "import numpy as np\n",
    "import matplotlib.pyplot as plt\n",
    "\n",
    "#fungsi aktivasi(sigmoid)\n",
    "def sigmoid(x):\n",
    "    return 1 / (1 + np.exp(-x))\n",
    "\n",
    "#turunan fungsi sigmoid\n",
    "def sigmoid_derivative(x):\n",
    "    return x * (1 - x)\n",
    "\n",
    "#forward propagation\n",
    "def forward_propagation(X, weights_0, weights_1):\n",
    "    layer_0 = X\n",
    "    layer_1 = sigmoid(np.dot(layer_0, weights_0))\n",
    "    layer_2 = sigmoid(np.dot(layer_1, weights_1))\n",
    "    return layer_0, layer_1, layer_2\n",
    "\n",
    "#backward propagation\n",
    "def backward_propagation(X, y, layer_0, layer_1, layer_2, weights_0, weights_1):\n",
    "    layer_2_error = y - layer_2\n",
    "    layer_2_delta = layer_2_error * sigmoid_derivative(layer_2)\n",
    "\n",
    "    layer_1_error = layer_2_delta.dot(weights_1.T)\n",
    "    layer_1_delta = layer_1_error * sigmoid_derivative(layer_1)\n",
    "\n",
    "    weights_1 += layer_1.T.dot(layer_2_delta)\n",
    "    weights_0 += layer_0.T.dot(layer_1_delta)\n",
    "    return weights_0, weights_1\n",
    "\n",
    "#XOR Input dataset\n",
    "X = np.array([[0, 0], [0, 1], [1, 0], [1, 1]])\n",
    "\n",
    "#XOR Output dataset\n",
    "y = np.array([[0], [1], [1], [0]])\n",
    "\n",
    "#mengatur angka acak untuk untuk hasil yang konsisten\n",
    "np.random.seed(2)\n",
    "\n",
    "#menginisialisasi bobot secara acak dengan rata-rata 0\n",
    "weights_0 = 2 * np.random.random((2, 2)) - 1\n",
    "weights_1 = 2 * np.random.random((2, 1)) - 1\n",
    "\n",
    "#list nilai loss dan epoch\n",
    "losses = []\n",
    "epochs = []\n",
    "\n",
    "for i in range(10000):\n",
    "    #forward propagation\n",
    "    layer_0, layer_1, layer_2 = forward_propagation(X, weights_0, weights_1)\n",
    "    #menghitung loss\n",
    "    loss = np.mean(np.square(y - layer_2))\n",
    "    losses.append(loss)\n",
    "    epochs.append(i)\n",
    "\n",
    "    #backward propagation\n",
    "    weights_0, weights_1 = backward_propagation(X, y, layer_0, layer_1, layer_2, weights_0, weights_1)\n",
    "\n",
    "test_data = np.array([[0, 0], [0, 1], [1, 0], [1, 1]])\n",
    "output = forward_propagation(test_data, weights_0, weights_1)[2]\n",
    "print(\"Output setelah pelatihan:\")\n",
    "print(output)\n",
    "\n",
    "plt.plot(epochs, losses)\n",
    "plt.xlabel('Epoch')\n",
    "plt.ylabel('Loss')\n",
    "plt.title('Perubahan nilai loss selama epoch')\n",
    "plt.show()\n",
    "\n",
    "prediction = np.round(output)\n",
    "print(\"Output prediksi:\")\n",
    "print(prediction)\n"
   ]
  },
  {
   "cell_type": "code",
   "execution_count": null,
   "id": "f0145fe3",
   "metadata": {},
   "outputs": [],
   "source": []
  },
  {
   "cell_type": "code",
   "execution_count": null,
   "id": "c28a7d4e",
   "metadata": {},
   "outputs": [],
   "source": []
  }
 ],
 "metadata": {
  "kernelspec": {
   "display_name": "Python 3 (ipykernel)",
   "language": "python",
   "name": "python3"
  },
  "language_info": {
   "codemirror_mode": {
    "name": "ipython",
    "version": 3
   },
   "file_extension": ".py",
   "mimetype": "text/x-python",
   "name": "python",
   "nbconvert_exporter": "python",
   "pygments_lexer": "ipython3",
   "version": "3.9.7"
  }
 },
 "nbformat": 4,
 "nbformat_minor": 5
}
