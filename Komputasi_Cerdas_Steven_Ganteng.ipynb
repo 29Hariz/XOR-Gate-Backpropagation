{
  "cells": [
    {
      "cell_type": "markdown",
      "id": "3233752a",
      "metadata": {
        "id": "3233752a"
      },
      "source": [
        "## Tugas Komputasi Cerdas Backpropagation dan XOR Gate"
      ]
    },
    {
      "cell_type": "markdown",
      "id": "5d1b7dd2",
      "metadata": {
        "id": "5d1b7dd2"
      },
      "source": [
        "\n",
        "\n",
        "```\n",
        "# This is formatted as code\n",
        "```\n",
        "\n",
        "**Nama Kelompok:**\n",
        "<br>Ali Ridho 21060120130112\n",
        "<br>Fajrul Kamal 21060120130082\n",
        "<br>Lukman Sanusi 21060120130140\n",
        "<br>Miftahul Ilmanudin 21060120130094\n",
        "<br>Steven Ardi Christianto 21060120130069"
      ]
    },
    {
      "cell_type": "markdown",
      "id": "1f0dce1d",
      "metadata": {
        "id": "1f0dce1d"
      },
      "source": [
        "**Langkah Pertama**\n",
        "<br>1. Load library yang diperlukan untuk menjalankan metode machine learning yang dilakukan. yaitu numpy dan matplotlib untuk menggambarkan grafik loss function nya.\n",
        "<br>2. Tentukan Input dan Output dari XOR Gate nya, karena terdapat dua buah input. maka kombinasi input dan output yang bisa terjadi adalah:\n",
        "<br>Input = [0, 0], [0, 1], [1, 0], [1, 1]\n",
        "<br>Output = [0], [1], [1], [0]"
      ]
    },
    {
      "cell_type": "code",
      "execution_count": 32,
      "id": "5e0a3a0e",
      "metadata": {
        "id": "5e0a3a0e"
      },
      "outputs": [],
      "source": [
        "import numpy as np\n",
        "import matplotlib.pyplot as plt\n",
        "\n",
        "#Menentukan kombinasi input dan output pada gerbang XOR\n",
        "x_train = np.array([[0, 0], [0, 1], [1, 0], [1, 1]])\n",
        "y_train = np.array([[0], [1], [1], [0]])"
      ]
    },
    {
      "cell_type": "markdown",
      "id": "03ac30ba",
      "metadata": {
        "id": "03ac30ba"
      },
      "source": [
        "**Langkah Kedua**\n",
        "<br>Tentukan parameter pada neural network yang akan digunakan, yaitu:\n",
        "<br>a.) dimensi input: 2 \n",
        "<br>b.) dimensi layer hidden: 2\n",
        "<br>c.) dimensi layer output: 1\n",
        "<br>d.) learning rate: 0.1\n",
        "<br>e.) epoch pelatihan model: 10000"
      ]
    },
    {
      "cell_type": "code",
      "execution_count": 33,
      "id": "09b97466",
      "metadata": {
        "id": "09b97466"
      },
      "outputs": [],
      "source": [
        "# Menentukan parameter neural network\n",
        "input_dim = 2\n",
        "hidden_dim = 2\n",
        "output_dim = 1\n",
        "learning_rate = 0.1\n",
        "epochs = 10000"
      ]
    },
    {
      "cell_type": "markdown",
      "source": [
        "**Langkah Ketiga**\n",
        "<br>Menggunakan random seeding, kita tentukan weight dan biasnya secara random untuk melatih model dengan data yang digenerate secara random dengan variasi yang banyak pada layer hidden model."
      ],
      "metadata": {
        "id": "5ZmOWAvfI1ZV"
      },
      "id": "5ZmOWAvfI1ZV"
    },
    {
      "cell_type": "code",
      "source": [
        "# Gunakan random seed untuk menentukan weight dan bias pada layer hidden\n",
        "np.random.seed(0)\n",
        "w1 = np.random.randn(input_dim, hidden_dim)\n",
        "b1 = np.zeros((1, hidden_dim))\n",
        "w2 = np.random.randn(hidden_dim, output_dim)\n",
        "b2 = np.zeros((1, output_dim))"
      ],
      "metadata": {
        "id": "5RNxMqhLIaRK"
      },
      "id": "5RNxMqhLIaRK",
      "execution_count": 34,
      "outputs": []
    },
    {
      "cell_type": "markdown",
      "source": [
        "**Langkah Keempat**\n",
        "<br>Definisikan fungsi aktivasi untuk layer hidden.\n",
        "<br>Fungsi aktivasi sigmoid digunakan karena neural network memprediksi sebuah output biner dari dua buah input pada gerbang XOR."
      ],
      "metadata": {
        "id": "ubwY2WexI8J5"
      },
      "id": "ubwY2WexI8J5"
    },
    {
      "cell_type": "code",
      "source": [
        "# Activation function (sigmoid)\n",
        "def sigmoid(x):\n",
        "    return 1 / (1 + np.exp(-x))"
      ],
      "metadata": {
        "id": "kUzmZLzSJG96"
      },
      "id": "kUzmZLzSJG96",
      "execution_count": 35,
      "outputs": []
    },
    {
      "cell_type": "markdown",
      "source": [
        "**Langkah Kelima**\n",
        "<br>Tentukan turunan fungsi sigmoid untuk menghitung backpropagation dari model yang dijalankan."
      ],
      "metadata": {
        "id": "klVHXAmQJ9_T"
      },
      "id": "klVHXAmQJ9_T"
    },
    {
      "cell_type": "code",
      "source": [
        "# Derivative of sigmoid function\n",
        "def sigmoid_derivative(x):\n",
        "    return sigmoid(x) * (1 - sigmoid(x))"
      ],
      "metadata": {
        "id": "h6U05nDpJWpe"
      },
      "id": "h6U05nDpJWpe",
      "execution_count": 36,
      "outputs": []
    },
    {
      "cell_type": "markdown",
      "source": [
        "**Langkah Keenam**\n",
        "Melakukakan iterasi training untuk melatih model.\n",
        "Langkah-langkahnya adalah:\n",
        "\n",
        "1. Menghitung forward propagation\n",
        "   pada hidden layer dilakukan training aktivasi sigmoid, menggunakan fungsi np.dot untuk menghitung kombinasi output dari gerbang XOR\n",
        "\n",
        "2. Menghitung loss dari model (menggunakan loss MSE),\n",
        "   kemudian perhitungan loss function dimasukkan untuk tiap 1000 epochs kedalam array loss_history untuk ditampilkan pada grafik.\n",
        "\n",
        "3. Menghitung backpropagation\n",
        "   Menghitung kesalahan (error) antara output yang dihasilkan dan target yang diharapkan.\n",
        "   \n",
        "   Menghitung delta (perubahan bobot) untuk bobot antara lapisan tersembunyi (hidden layer) dan lapisan output, dengan mengalikan kesalahan dengan turunan fungsi sigmoid dari hasil perkalian dot antara keluaran lapisan tersembunyi dan bobot lapisan output.\n",
        "   \n",
        "   Menghitung delta (perubahan bobot) untuk bobot antara lapisan input dan lapisan tersembunyi, dengan mengalikan hasil perkalian dot antara delta_output dan transpose bobot lapisan output dengan turunan fungsi sigmoid dari hasil perkalian dot antara data pelatihan dan bobot lapisan input.\n",
        "\n",
        "4. Memperbarui beban dan bias\n",
        "  \n",
        "   Dengan tujuan sebagai bagian dari proses pelatihan untuk memperbaiki kinerja jaringan dan meningkatkan kemampuan prediksi.\n",
        "\n",
        "5. Mencetak loss setiap 500 epoch\n",
        "\n"
      ],
      "metadata": {
        "id": "pC4PqG0ZKYDk"
      },
      "id": "pC4PqG0ZKYDk"
    },
    {
      "cell_type": "code",
      "source": [
        "# Training loop\n",
        "loss_history = []\n",
        "for epoch in range(epochs):\n",
        "    # Forward propagation\n",
        "    hidden_layer_output = sigmoid(np.dot(x_train, w1) + b1)\n",
        "    output = sigmoid(np.dot(hidden_layer_output, w2) + b2)\n",
        "\n",
        "    # Calculate the loss (mean squared error)\n",
        "    loss = np.mean((output - y_train) ** 2)\n",
        "    loss_history.append(loss)\n",
        "\n",
        "    # Backpropagation\n",
        "    error = output - y_train\n",
        "    delta_output = error * sigmoid_derivative(np.dot(hidden_layer_output, w2) + b2)\n",
        "    delta_hidden = np.dot(delta_output, w2.T) * sigmoid_derivative(np.dot(x_train, w1) + b1)\n",
        "\n",
        "    # Update the weights and biases\n",
        "    w2 -= learning_rate * np.dot(hidden_layer_output.T, delta_output)\n",
        "    b2 -= learning_rate * np.sum(delta_output, axis=0)\n",
        "    w1 -= learning_rate * np.dot(x_train.T, delta_hidden)\n",
        "    b1 -= learning_rate * np.sum(delta_hidden, axis=0)\n",
        "\n",
        "    # Print the loss at every 1000 epochs\n",
        "    if epoch % 500 == 0:\n",
        "        print(f\"Epoch: {epoch}, Loss: {loss:.6f}\")\n",
        "\n"
      ],
      "metadata": {
        "id": "HKi8UmYaKYYZ",
        "colab": {
          "base_uri": "https://localhost:8080/"
        },
        "outputId": "d9de7e85-db30-4070-d7d9-e23b92ebfdfe"
      },
      "id": "HKi8UmYaKYYZ",
      "execution_count": 37,
      "outputs": [
        {
          "output_type": "stream",
          "name": "stdout",
          "text": [
            "Epoch: 0, Loss: 0.269637\n",
            "Epoch: 500, Loss: 0.207140\n",
            "Epoch: 1000, Loss: 0.175006\n",
            "Epoch: 1500, Loss: 0.156230\n",
            "Epoch: 2000, Loss: 0.146131\n",
            "Epoch: 2500, Loss: 0.140374\n",
            "Epoch: 3000, Loss: 0.136835\n",
            "Epoch: 3500, Loss: 0.134505\n",
            "Epoch: 4000, Loss: 0.132882\n",
            "Epoch: 4500, Loss: 0.131699\n",
            "Epoch: 5000, Loss: 0.130804\n",
            "Epoch: 5500, Loss: 0.130107\n",
            "Epoch: 6000, Loss: 0.129551\n",
            "Epoch: 6500, Loss: 0.129099\n",
            "Epoch: 7000, Loss: 0.128724\n",
            "Epoch: 7500, Loss: 0.128408\n",
            "Epoch: 8000, Loss: 0.128140\n",
            "Epoch: 8500, Loss: 0.127909\n",
            "Epoch: 9000, Loss: 0.127708\n",
            "Epoch: 9500, Loss: 0.127532\n"
          ]
        }
      ]
    },
    {
      "cell_type": "markdown",
      "source": [
        "**Langkah ketujuh**\n",
        "\n",
        "Setelah model dilakukan iterasi training, kemudian ditampilkan hasil perhitungan loss function kedalam grafik menggunakan fungsi dari library matplotlib. "
      ],
      "metadata": {
        "id": "D1j504u4aH1r"
      },
      "id": "D1j504u4aH1r"
    },
    {
      "cell_type": "code",
      "source": [
        "# Plot the loss function\n",
        "plt.plot(range(epochs), loss_history)\n",
        "plt.xlabel('Epoch')\n",
        "plt.ylabel('Loss')\n",
        "plt.title('Training Loss')\n",
        "plt.show()"
      ],
      "metadata": {
        "colab": {
          "base_uri": "https://localhost:8080/",
          "height": 472
        },
        "id": "F39K0zTnZ-3w",
        "outputId": "9bf5f368-c41b-44d4-e35a-7022c14dacd1"
      },
      "id": "F39K0zTnZ-3w",
      "execution_count": 40,
      "outputs": [
        {
          "output_type": "display_data",
          "data": {
            "text/plain": [
              "<Figure size 640x480 with 1 Axes>"
            ],
            "image/png": "[encoded data removed]"
          },
          "metadata": {}
        }
      ]
    },
    {
      "cell_type": "markdown",
      "source": [
        "Terakhir, model yang sebelumnya sudah dibuat dicoba untuk melakukan prediksi."
      ],
      "metadata": {
        "id": "GJgds4rlekl0"
      },
      "id": "GJgds4rlekl0"
    },
    {
      "cell_type": "code",
      "execution_count": 41,
      "id": "e712cd90",
      "metadata": {
        "id": "e712cd90",
        "colab": {
          "base_uri": "https://localhost:8080/"
        },
        "outputId": "a0dce794-39f0-4aba-a791-dbe9867f9e2c"
      },
      "outputs": [
        {
          "output_type": "stream",
          "name": "stdout",
          "text": [
            "Custom Prediction: [[1 0]]\n",
            "1\n"
          ]
        }
      ],
      "source": [
        "# Perform prediction on custom input\n",
        "custom_input = np.array([[1, 0]])\n",
        "hidden_layer_output_custom = sigmoid(np.dot(custom_input, w1) + b1)\n",
        "output_custom = sigmoid(np.dot(hidden_layer_output_custom, w2) + b2)\n",
        "\n",
        "# Apply threshold for prediction\n",
        "threshold = 0.5\n",
        "prediction = 1 if output_custom >= threshold else 0\n",
        "\n",
        "# Print the prediction\n",
        "print(\"Custom Prediction: {}\".format(custom_input))\n",
        "print(prediction)"
      ]
    },
    {
      "cell_type": "markdown",
      "source": [
        "Dari prediksi dengan input array [1, 0], didapatkan hasil prediksi yaitu 1. Hal ini sesuai dengan output gerbang XOR yang sebenanrnya. Sehingga bisa disimpulkan model sudah terlatih dengan baik."
      ],
      "metadata": {
        "id": "bwfhB_pOetuf"
      },
      "id": "bwfhB_pOetuf"
    },
    {
      "cell_type": "code",
      "source": [],
      "metadata": {
        "id": "R50FSrV9EqVn"
      },
      "id": "R50FSrV9EqVn",
      "execution_count": null,
      "outputs": []
    }
  ],
  "metadata": {
    "kernelspec": {
      "display_name": "Python 3 (ipykernel)",
      "language": "python",
      "name": "python3"
    },
    "language_info": {
      "codemirror_mode": {
        "name": "ipython",
        "version": 3
      },
      "file_extension": ".py",
      "mimetype": "text/x-python",
      "name": "python",
      "nbconvert_exporter": "python",
      "pygments_lexer": "ipython3",
      "version": "3.9.13"
    },
    "colab": {
      "provenance": []
    }
  },
  "nbformat": 4,
  "nbformat_minor": 5
}