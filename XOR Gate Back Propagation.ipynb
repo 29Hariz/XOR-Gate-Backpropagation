{
  "nbformat": 4,
  "nbformat_minor": 0,
  "metadata": {
    "colab": {
      "provenance": [],
      "authorship_tag": "ABX9TyM1Rm+bgajw0Z2GB6WVYLmN"
    },
    "kernelspec": {
      "name": "python3",
      "display_name": "Python 3"
    },
    "language_info": {
      "name": "python"
    }
  },
  "cells": [
    {
      "cell_type": "code",
      "execution_count": null,
      "metadata": {
        "colab": {
          "base_uri": "https://localhost:8080/",
          "height": 663
        },
        "id": "NUqtM_3_cnJf",
        "outputId": "09396327-e2b8-4b64-9929-4b4a330a6a03"
      },
      "outputs": [
        {
          "output_type": "stream",
          "name": "stdout",
          "text": [
            "Epoch 0: Cost = 0.2696367200181884\n",
            "Epoch 1000: Cost = 0.1750060710642713\n",
            "Epoch 2000: Cost = 0.14613094454674402\n",
            "Epoch 3000: Cost = 0.1368350751574775\n",
            "Epoch 4000: Cost = 0.13288176632884824\n",
            "Epoch 5000: Cost = 0.13080399496399958\n",
            "Epoch 6000: Cost = 0.12955145571861038\n",
            "Epoch 7000: Cost = 0.12872371423208248\n",
            "Epoch 8000: Cost = 0.12814004233797888\n",
            "Epoch 9000: Cost = 0.12770828200389944\n",
            "Training complete!\n"
          ]
        },
        {
          "output_type": "display_data",
          "data": {
            "text/plain": [
              "<Figure size 640x480 with 1 Axes>"
            ],
            "image/png": "[encoded data removed]"
          },
          "metadata": {}
        }
      ],
      "source": [
        "#Source: https://stackoverflow.com/questions/59399842/xor-gate-with-backpropagation\n",
        "\n",
        "import numpy as np\n",
        "import matplotlib.pyplot as plt\n",
        "\n",
        "def forward_pass(x, w1, b1, w2, b2):\n",
        "    hidden = np.dot(x, w1) + b1\n",
        "    hidden = sigmoid(hidden)\n",
        "    output = np.dot(hidden, w2) + b2\n",
        "    output = sigmoid(output)\n",
        "    return hidden, output\n",
        "\n",
        "def sigmoid(x):\n",
        "    return 1 / (1 + np.exp(-x))\n",
        "\n",
        "def backward_pass(x, y, hidden, output, w2):\n",
        "    error_output = output - y\n",
        "    derivative_output = output * (1 - output)\n",
        "    gradient_output = error_output * derivative_output\n",
        "\n",
        "    error_hidden = np.dot(gradient_output, w2.T)\n",
        "    derivative_hidden = hidden * (1 - hidden)\n",
        "    gradient_hidden = error_hidden * derivative_hidden\n",
        "\n",
        "    dw2 = np.dot(hidden.T, gradient_output)\n",
        "    db2 = np.sum(gradient_output, axis=0)\n",
        "\n",
        "    dw1 = np.dot(x.T, gradient_hidden)\n",
        "    db1 = np.sum(gradient_hidden, axis=0)\n",
        "\n",
        "    return dw1, db1, dw2, db2\n",
        "\n",
        "def train_xor_gate():\n",
        "\n",
        "    X = np.array([[0, 0],\n",
        "                  [0, 1],\n",
        "                  [1, 0],\n",
        "                  [1, 1]])\n",
        "\n",
        "    y = np.array([[0],\n",
        "                  [1],\n",
        "                  [1],\n",
        "                  [0]])\n",
        "\n",
        "    np.random.seed(0)\n",
        "    w1 = np.random.randn(2, 2)\n",
        "    b1 = np.zeros((1, 2))\n",
        "    w2 = np.random.randn(2, 1)\n",
        "    b2 = np.zeros((1, 1))\n",
        "\n",
        "    learning_rate = 0.1\n",
        "    num_epochs = 10000\n",
        "\n",
        "    costs = []\n",
        "\n",
        "    for epoch in range(num_epochs):\n",
        "\n",
        "        hidden, output = forward_pass(X, w1, b1, w2, b2)\n",
        "\n",
        "        dw1, db1, dw2, db2 = backward_pass(X, y, hidden, output, w2)\n",
        "\n",
        "        w1 -= learning_rate * dw1\n",
        "        b1 -= learning_rate * db1\n",
        "        w2 -= learning_rate * dw2\n",
        "        b2 -= learning_rate * db2\n",
        "\n",
        "        cost = np.mean((output - y) ** 2)\n",
        "        costs.append(cost)\n",
        "\n",
        "        if epoch % 1000 == 0:\n",
        "            print(f\"Epoch {epoch}: Cost = {cost}\")\n",
        "\n",
        "    print(\"Training complete!\")\n",
        "\n",
        "    plt.plot(range(num_epochs), costs)\n",
        "    plt.xlabel('Epoch')\n",
        "    plt.ylabel('Cost')\n",
        "    plt.title('Cost over Epochs')\n",
        "    plt.show()\n",
        "\n",
        "train_xor_gate()"
      ]
    },
    {
      "cell_type": "code",
      "source": [
        "import tensorflow as tf\n",
        "import numpy as np\n",
        "\n",
        "X = np.array([[0, 0],\n",
        "              [0, 1],\n",
        "              [1, 0],\n",
        "              [1, 1]])\n",
        "y = np.array([[0],\n",
        "              [1],\n",
        "              [1],\n",
        "              [0]])\n",
        "\n",
        "model = tf.keras.Sequential([\n",
        "    tf.keras.layers.Dense(4, activation='sigmoid', input_shape=(2,)),\n",
        "    tf.keras.layers.Dense(1, activation='sigmoid')\n",
        "])\n",
        "\n",
        "model.compile(optimizer='adam', loss='binary_crossentropy', metrics=['accuracy'])\n",
        "\n",
        "model.fit(X, y, epochs=1000, verbose=0)\n",
        "\n",
        "\n",
        "predictions = model.predict(X)\n",
        "predictions = np.round(predictions).astype(int)\n",
        "\n",
        "\n",
        "for i in range(len(X)):\n",
        "    print(f\"Input: {X[i]}  Output: {predictions[i][0]}\")\n"
      ],
      "metadata": {
        "colab": {
          "base_uri": "https://localhost:8080/"
        },
        "id": "ds4tfKJLg-ZL",
        "outputId": "e85ab8c1-6c0c-443c-ded8-48d4968f4771"
      },
      "execution_count": null,
      "outputs": [
        {
          "output_type": "stream",
          "name": "stdout",
          "text": [
            "1/1 [==============================] - 0s 102ms/step\n",
            "Input: [0 0]  Output: 0\n",
            "Input: [0 1]  Output: 0\n",
            "Input: [1 0]  Output: 1\n",
            "Input: [1 1]  Output: 1\n"
          ]
        }
      ]
    },
    {
      "cell_type": "code",
      "source": [],
      "metadata": {
        "id": "-b2lXrosg-p5"
      },
      "execution_count": null,
      "outputs": []
    }
  ]
}