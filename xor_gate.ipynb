{
  "cells": [
    {
      "cell_type": "markdown",
      "source": [
        "Kelompok:\n",
        "\n",
        "> \n",
        "Husain Abidin Widayat\n",
        "> \n",
        "Zaenul Muntaha\n",
        "> \n",
        "Willman Satria Situmorang\n",
        "> \n",
        "Cindy Amelia Putri\n",
        "> \n",
        "Muhammad Rafly \n",
        "Chairullah \n",
        "\n"
      ],
      "metadata": {
        "id": "JQMllYJDHMwN"
      },
      "id": "JQMllYJDHMwN"
    },
    {
      "cell_type": "code",
      "source": [
        "# menginport library\n",
        "import numpy as np\n",
        "import tensorflow as tf\n",
        "import matplotlib.pyplot as plt\n",
        "\n",
        "# membuat input dan output dari data dummy\n",
        "inputs = np.array([[0, 0], [0, 1], [1, 0], [1, 1]])\n",
        "expected_output = np.array([[0], [1], [1], [0]])\n",
        "\n",
        "# mendefinisikan modelnya dengan 2 layer \n",
        "model = tf.keras.Sequential([\n",
        "    tf.keras.layers.Dense(4, activation='sigmoid', input_shape=(2,)), #layer input, memiliki 4 neuron untuk menerima data input XOR gate dengan aktivasi sigmoid\n",
        "    tf.keras.layers.Dense(1, activation='sigmoid') #layer output, memiliki 1 neuron dengan aktivasi function sigmoid, untuk menghasilkan output dari data input\n",
        "])\n",
        "\n",
        "model.summary()"
      ],
      "metadata": {
        "id": "BBX0oytrsZVD",
        "colab": {
          "base_uri": "https://localhost:8080/"
        },
        "outputId": "87d6ccdf-baf9-4dbc-ccbd-b88074441378"
      },
      "id": "BBX0oytrsZVD",
      "execution_count": null,
      "outputs": [
        {
          "output_type": "stream",
          "name": "stdout",
          "text": [
            "Model: \"sequential_18\"\n",
            "_________________________________________________________________\n",
            " Layer (type)                Output Shape              Param #   \n",
            "=================================================================\n",
            " dense_36 (Dense)            (None, 4)                 12        \n",
            "                                                                 \n",
            " dense_37 (Dense)            (None, 1)                 5         \n",
            "                                                                 \n",
            "=================================================================\n",
            "Total params: 17\n",
            "Trainable params: 17\n",
            "Non-trainable params: 0\n",
            "_________________________________________________________________\n"
          ]
        }
      ]
    },
    {
      "cell_type": "code",
      "source": [
        "# Compile the model\n",
        "# optimizer SGD (Stochastic Gradient Descent) dengan learning rate sebesar 0.1.\n",
        "# Menggunakan fungsi loss Mean Squared Error (MSE).\n",
        "# Menggunakan metrik accuracy.\n",
        "\n",
        "model.compile(optimizer=tf.keras.optimizers.SGD(learning_rate=0.1),\n",
        "              loss=tf.keras.losses.MeanSquaredError(),\n",
        "              metrics=['accuracy'])\n",
        "\n",
        "# Train the model\n",
        "history = model.fit(inputs, expected_output, epochs=10000, verbose=0)\n",
        "\n"
      ],
      "metadata": {
        "id": "GfqmntUB3Tqa"
      },
      "id": "GfqmntUB3Tqa",
      "execution_count": null,
      "outputs": []
    },
    {
      "cell_type": "code",
      "source": [
        "# Evaluate the model\n",
        "loss, accuracy = model.evaluate(inputs, expected_output, verbose=0)\n",
        "print(\"Loss:\", loss)\n",
        "print(\"Accuracy:\", accuracy)\n"
      ],
      "metadata": {
        "colab": {
          "base_uri": "https://localhost:8080/"
        },
        "id": "ypQ83HpW3Wv1",
        "outputId": "839ef11b-f26b-4355-814d-8ce14571a25a"
      },
      "id": "ypQ83HpW3Wv1",
      "execution_count": null,
      "outputs": [
        {
          "output_type": "stream",
          "name": "stdout",
          "text": [
            "Loss: 0.007165629882365465\n",
            "Accuracy: 1.0\n"
          ]
        }
      ]
    },
    {
      "cell_type": "code",
      "source": [
        "# Predict outputnya apakah sesuai dengan inputnya tidak\n",
        "predictions = model.predict(inputs)\n",
        "print(\"Predictions:\")\n",
        "for i in range(len(inputs)):\n",
        "    print(inputs[i], \"->\", np.round(predictions[i]))"
      ],
      "metadata": {
        "id": "KL2087Sqw5Hj",
        "colab": {
          "base_uri": "https://localhost:8080/"
        },
        "outputId": "b6d40a02-8102-4bfd-db03-1b68a0cee8e4"
      },
      "id": "KL2087Sqw5Hj",
      "execution_count": null,
      "outputs": [
        {
          "output_type": "stream",
          "name": "stdout",
          "text": [
            "1/1 [==============================] - 0s 59ms/step\n",
            "Predictions:\n",
            "[0 0] -> [0.]\n",
            "[0 1] -> [1.]\n",
            "[1 0] -> [1.]\n",
            "[1 1] -> [0.]\n"
          ]
        }
      ]
    },
    {
      "cell_type": "code",
      "source": [
        "# Visualisasi loss dan akurasi selama 10000 epochs\n",
        "visual = range(1, len(history.history['loss']) + 1)\n",
        "\n",
        "plt.plot(visual, history.history['loss'], label='Loss')\n",
        "plt.plot(visual, history.history['accuracy'], label='Accuracy')\n",
        "plt.title('Model Loss and Accuracy')\n",
        "plt.xlabel('Epochs')\n",
        "plt.legend()\n",
        "plt.show()"
      ],
      "metadata": {
        "colab": {
          "base_uri": "https://localhost:8080/",
          "height": 472
        },
        "id": "A9D9TEnc1Jw4",
        "outputId": "6831ef8c-4dcf-43d5-cf7f-599833be754b"
      },
      "id": "A9D9TEnc1Jw4",
      "execution_count": null,
      "outputs": [
        {
          "output_type": "display_data",
          "data": {
            "text/plain": [
              "<Figure size 640x480 with 1 Axes>"
            ],
            "image/png": "[encoded data removed]"
          },
          "metadata": {}
        }
      ]
    },
    {
      "cell_type": "code",
      "source": [],
      "metadata": {
        "id": "1Jqva4LI1d1M"
      },
      "id": "1Jqva4LI1d1M",
      "execution_count": null,
      "outputs": []
    }
  ],
  "metadata": {
    "colab": {
      "provenance": []
    },
    "kernelspec": {
      "display_name": "Python 3 (ipykernel)",
      "language": "python",
      "name": "python3"
    },
    "language_info": {
      "codemirror_mode": {
        "name": "ipython",
        "version": 3
      },
      "file_extension": ".py",
      "mimetype": "text/x-python",
      "name": "python",
      "nbconvert_exporter": "python",
      "pygments_lexer": "ipython3",
      "version": "3.9.12"
    }
  },
  "nbformat": 4,
  "nbformat_minor": 5
}