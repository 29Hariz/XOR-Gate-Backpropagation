{
 "cells": [
  {
   "cell_type": "code",
   "execution_count": 7,
   "id": "0452eb4a",
   "metadata": {},
   "outputs": [
    {
     "name": "stderr",
     "output_type": "stream",
     "text": [
      "D:\\Anaconda\\lib\\site-packages\\scipy\\__init__.py:146: UserWarning: A NumPy version >=1.16.5 and <1.23.0 is required for this version of SciPy (detected version 1.24.2\n",
      "  warnings.warn(f\"A NumPy version >={np_minversion} and <{np_maxversion}\"\n"
     ]
    }
   ],
   "source": [
    "from __future__ import division, print_function, absolute_import, unicode_literals\n",
    "\n",
    "# Python imports\n",
    "import numpy  # Matrix and vector computation package\n",
    "import matplotlib.pyplot as plt  # Plotting library\n",
    "import seaborn\n",
    "# Allow matplotlib to plot inside this notebook\n",
    "%matplotlib inline\n",
    "# Set the seed of the numpy random number generator so that the tutorial is reproducable\n",
    "numpy.random.seed(seed=1)\n",
    "\n",
    "from matplotlib import animation, rc\n",
    "from IPython.display import HTML, Image\n",
    "\n",
    "# equivalent to rcParams['animation.html'] = 'html5'\n",
    "rc('animation', html='html5')"
   ]
  },
  {
   "cell_type": "code",
   "execution_count": 8,
   "id": "a60b89c9",
   "metadata": {},
   "outputs": [],
   "source": [
    "# Define the vector of input samples as x, with 20 values sampled from a uniform distribution\n",
    "# between 0 and 1\n",
    "x = numpy.random.uniform(0, 1, 20)\n",
    "\n",
    "# Generate the target values t from x with small gaussian noise so the estimation won't\n",
    "# be perfect.\n",
    "# Define a function f that represents the line that generates t without noise\n",
    "def f(x): return x * 2\n",
    "\n",
    "# Create the targets t with some gaussian noise\n",
    "noise_variance = 0.2  # Variance of the gaussian noise\n",
    "# Gaussian noise error for each sample in x\n",
    "noise = numpy.random.randn(x.shape[0]) * noise_variance\n",
    "# Create targets t\n",
    "t = f(x) + noise"
   ]
  },
  {
   "cell_type": "code",
   "execution_count": 9,
   "id": "b96c305d",
   "metadata": {},
   "outputs": [
    {
     "data": {
      "image/png": "[encoded data removed]",
      "text/plain": [
       "<Figure size 432x288 with 1 Axes>"
      ]
     },
     "metadata": {
      "needs_background": "light"
     },
     "output_type": "display_data"
    }
   ],
   "source": [
    "# Plot the target t versus the input x\n",
    "plt.plot(x, t, 'bo', label='target: t')\n",
    "plt.xlabel('input: $x$', fontsize=15)\n",
    "plt.ylabel('target: $t$', fontsize=15)\n",
    "plt.ylim([0,2])\n",
    "plt.xlim([0,1])\n",
    "plt.title('Labelled data', fontsize=18)\n",
    "plt.legend(loc=2)\n",
    "plt.show()"
   ]
  },
  {
   "cell_type": "code",
   "execution_count": 54,
   "id": "0d201edd",
   "metadata": {},
   "outputs": [
    {
     "name": "stdout",
     "output_type": "stream",
     "text": [
      "Iteration: 100 and 4\n",
      "\n",
      "[0 1]\n",
      "[[0.49612471]]\n",
      "\n",
      "\n",
      "[1 0]\n",
      "[[0.51049587]]\n",
      "\n",
      "\n",
      "[1 1]\n",
      "[[0.62300706]]\n",
      "\n",
      "\n",
      "[0 0]\n",
      "[[0.37916032]]\n"
     ]
    },
    {
     "data": {
      "image/png": "[encoded data removed]",
      "text/plain": [
       "<Figure size 432x288 with 1 Axes>"
      ]
     },
     "metadata": {
      "needs_background": "light"
     },
     "output_type": "display_data"
    }
   ],
   "source": [
    "x = x.reshape(x.shape[0],1)\n",
    "t = t.reshape(t.shape[0],1)\n",
    "num_i_units = 2\n",
    "num_h_units = 2\n",
    "num_o_units = 1\n",
    "\n",
    "learning_rate = 0.1 \n",
    "reg_param = 0 \n",
    "max_iter = 100 \n",
    "m = 4\n",
    "\n",
    "\n",
    "np.random.seed(1)\n",
    "W1 = np.random.normal(0, 1, (num_h_units, num_i_units)) # 2x2\n",
    "W2 = np.random.normal(0, 1, (num_o_units, num_h_units)) # 1x2\n",
    "\n",
    "B1 = np.random.random((num_h_units, 1)) # 2x1\n",
    "B2 = np.random.random((num_o_units, 1)) # 1x1\n",
    "\n",
    "def sigmoid(z, derv=False):\n",
    "    if derv: return z * (1 - z)\n",
    "    return 1 / (1 + np.exp(-z))\n",
    "\n",
    "def forward(x, predict=False):\n",
    "    a1 = x.reshape(x.shape[0], 1) \n",
    "\n",
    "    z2 = W1.dot(a1) + B1\n",
    "    a2 = sigmoid(z2) \n",
    "\n",
    "    z3 = W2.dot(a2) + B2 \n",
    "    a3 = sigmoid(z3)\n",
    "\n",
    "    if predict: return a3\n",
    "    return (a1, a2, a3)\n",
    "\n",
    "dW1 = 0\n",
    "dW2 = 0\n",
    "\n",
    "dB1 = 0\n",
    "dB2 = 0\n",
    "\n",
    "cost = np.zeros((max_iter, 1))\n",
    "def compute_cost(predictions, targets):\n",
    "    return -np.mean(targets * np.log(predictions) + (1 - targets) * np.log(1 - predictions))\n",
    "\n",
    "for i in range(max_iter):\n",
    "    c = 0\n",
    "\n",
    "    dW1 = 0\n",
    "    dW2 = 0\n",
    "\n",
    "    dB1 = 0\n",
    "    dB2 = 0\n",
    "    for j in range(m):\n",
    "        sys.stdout.write(\"\\rIteration: {} and {}\".format(i + 1, j + 1))\n",
    "\n",
    "        # Forward Prop.\n",
    "        a0 = X[j].reshape(X[j].shape[0], 1) \n",
    "\n",
    "        z1 = W1.dot(a0) + B1 \n",
    "        a1 = sigmoid(z1) \n",
    "\n",
    "        z2 = W2.dot(a1) + B2 \n",
    "        a2 = sigmoid(z2) \n",
    "\n",
    "        # Back prop.\n",
    "        dz2 = a2 - y[j] \n",
    "        dW2 += dz2 * a1.T \n",
    "\n",
    "        dz1 = np.multiply((W2.T * dz2), sigmoid(a1, derv=True)) \n",
    "        dW1 += dz1.dot(a0.T) \n",
    "\n",
    "        dB1 += dz1 \n",
    "        dB2 += dz2 \n",
    "\n",
    "        c = c + (-(y[j] * np.log(a2)) - ((1 - y[j]) * np.log(1 - a2)))\n",
    "        sys.stdout.flush() \n",
    "    W1 = W1 - learning_rate * (dW1 / m) + ( (reg_param / m) * W1)\n",
    "    W2 = W2 - learning_rate * (dW2 / m) + ( (reg_param / m) * W2)\n",
    "\n",
    "    B1 = B1 - learning_rate * (dB1 / m)\n",
    "    B2 = B2 - learning_rate * (dB2 / m)\n",
    "    cost[i] = (c / m) + ( \n",
    "        (reg_param / (2 * m)) * \n",
    "        (\n",
    "            np.sum(np.power(W1, 2)) + \n",
    "            np.sum(np.power(W2, 2))\n",
    "        )\n",
    "    )\n",
    "for x in X:\n",
    "    print(\"\\n\")\n",
    "    print(x)\n",
    "    print(forward(x, predict=True))\n",
    "    \n",
    "ws = numpy.linspace(0, 4, num=100)  # weight values\n",
    "cost_ws = numpy.vectorize(lambda w: compute_cost(forward(x_reshaped, predict=True) , t))(ws)\n",
    "plt.plot(ws, cost)\n",
    "plt.xlabel(\"Parameter: $p$\")\n",
    "plt.ylabel(\"cost: $\\sum |t-y|^2$\")\n",
    "plt.title('Cost Function', fontsize=18)\n",
    "plt.show()"
   ]
  },
  {
   "cell_type": "code",
   "execution_count": 50,
   "id": "cd4e269f",
   "metadata": {},
   "outputs": [],
   "source": [
    "def init_fig():\n",
    "    \"\"\"Initialize figure\"\"\"\n",
    "    fig, (ax1, ax2) = plt.subplots(1, 2, figsize=(12, 5))\n",
    "    # Line vs data plot\n",
    "    ax2.plot(x_reshaped, t_reshaped, 'bo', label='target: t')\n",
    "    ax2.set_xlim([0, 1])\n",
    "    ax2.set_ylim([0, 2])\n",
    "    ax2.set_xlabel('input: $x$', fontsize=15)\n",
    "    ax2.set_ylabel('target: $t$', fontsize=15)\n",
    "    ax2.yaxis.set_label_position('right')\n",
    "    ax2.set_title('Labelled data & model output', fontsize=18)\n",
    "    line2, = ax2.plot([], [], 'k-', label='fitted line: $y=x*p$')\n",
    "    ax2.legend(loc=2)\n",
    "    # Cost function plot\n",
    "    ax1.plot(ws, cost_ws, 'r-', label='cost')\n",
    "    ax1.set_ylim([0, 14])\n",
    "    ax1.set_xlim([0, 4])\n",
    "    ax1.set_xlabel('parameter: $p$', fontsize=15)\n",
    "    ax1.set_ylabel('cost: $\\sum |t-y|^2$', fontsize=15)\n",
    "    cost_text = ax1.set_title('Cost at step {}'.format(0), fontsize=18)\n",
    "    line1, = ax1.plot([], [], 'k:', label='derivative at $p$')\n",
    "    pc_dots, = ax1.plot([], [], 'ko')\n",
    "    ax1.legend(loc=2)\n",
    "    return fig, ax1, ax2, line1, line2, pc_dots, cost_text\n",
    "\n",
    "\n",
    "def get_anim(fig, ax1, ax2, line1, line2, pc_dots, cost_text, weights):\n",
    "    \"\"\"Return animation function\"\"\"\n",
    "    xs = np.linspace(0, 4, num=100)  # weight values\n",
    "\n",
    "    def anim(i):\n",
    "        \"\"\"Animate step i\"\"\"\n",
    "        if i == 0:\n",
    "            return [line1, line2, pc_dots, cost_text]\n",
    "        (w, dw, cost) = weights[i-1]\n",
    "        cost_text.set_text('Cost at step {} = {:.3f}'.format(i, cost))\n",
    "        ws, _, cs = zip(*weights[0:i])\n",
    "        pc_dots.set_xdata(ws)\n",
    "        pc_dots.set_ydatya(cs)\n",
    "        abline_values = [dw * (x - w) + cost for x in xs]\n",
    "        line1.set_xdata(xs)\n",
    "        line1.set_ydata(abline_values)\n",
    "        # Plot fit\n",
    "        line2.set_xdata([0, 1])\n",
    "        line2.set_ydata([0*w, 1*w])\n",
    "        ax2.legend(loc=2)\n",
    "        return [line1, line2, pc_dots, cost_text]\n",
    "\n",
    "    return anim"
   ]
  },
  {
   "cell_type": "code",
   "execution_count": 51,
   "id": "d99e5dfa",
   "metadata": {
    "scrolled": true
   },
   "outputs": [],
   "source": [
    "def gradient(w, x, t):\n",
    "    x_reshaped = x.reshape(x.shape[0], 1)\n",
    "    t_reshaped = t.reshape(t.shape[0], 1)\n",
    "    predictions = forward(x_reshaped, predict=True)\n",
    "    return 2 * x_reshaped * (predictions - t_reshaped)\n",
    "\n",
    "def delta_w(w_k,x,t,learning_rate):\n",
    "    return learning_rate *gradient(w_k,x_reshaped,t_reshaped).sum()\n",
    "w = 0.3\n",
    "learning_rate = 0.05\n",
    "nb_of_iterations = 1\n",
    "\n",
    "x_reshaped = x.reshape(x.shape[0], 1)\n",
    "t_reshaped = t.reshape(t.shape[0], 1)\n",
    "x_reshaped = x_reshaped[:2]\n",
    "t_reshaped = t_reshaped[:2]\n",
    "w_cost = [(w, compute_cost(forward(x_reshaped, predict=True), t_reshaped))]\n",
    "weights = [(w, gradient(w, x_reshaped, t_reshaped).sum(), compute_cost(forward(x_reshaped, predict=True), t_reshaped))]\n",
    "\n",
    "for i in range(nb_of_iterations):\n",
    "    dw = delta_w(w, x_reshaped, t_reshaped, learning_rate)\n",
    "    w -= dw\n",
    "    gw = gradient(w, x_reshaped, t_reshaped).sum()\n",
    "    c = compute_cost(forward(x_reshaped, predict=True), t_reshaped)\n",
    "    w_cost.append((w, c))\n",
    "    weights.append((w, gw, c))\n"
   ]
  },
  {
   "cell_type": "code",
   "execution_count": 55,
   "id": "f2f78617",
   "metadata": {},
   "outputs": [
    {
     "data": {
      "image/png": "[encoded data removed]",
      "text/plain": [
       "<Figure size 864x360 with 2 Axes>"
      ]
     },
     "metadata": {
      "needs_background": "light"
     },
     "output_type": "display_data"
    }
   ],
   "source": [
    "# Create animation (uses ffmpeg)\n",
    "fig, ax1, ax2, line1, line2, pc_dots, cost_text = init_fig()\n",
    "animate = get_anim(fig, ax1, ax2, line1, line2, pc_dots, cost_text, weights)\n",
    "\n",
    "anim = animation.FuncAnimation(fig, animate, frames=len(weights)+1, interval=800, blit=True)"
   ]
  },
  {
   "cell_type": "code",
   "execution_count": null,
   "id": "f16e4fbf",
   "metadata": {},
   "outputs": [],
   "source": []
  }
 ],
 "metadata": {
  "kernelspec": {
   "display_name": "Python 3 (ipykernel)",
   "language": "python",
   "name": "python3"
  },
  "language_info": {
   "codemirror_mode": {
    "name": "ipython",
    "version": 3
   },
   "file_extension": ".py",
   "mimetype": "text/x-python",
   "name": "python",
   "nbconvert_exporter": "python",
   "pygments_lexer": "ipython3",
   "version": "3.9.12"
  }
 },
 "nbformat": 4,
 "nbformat_minor": 5
}
